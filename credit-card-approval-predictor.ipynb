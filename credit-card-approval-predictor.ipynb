{
 "cells": [
  {
   "cell_type": "code",
   "execution_count": 39,
   "metadata": {
    "collapsed": true
   },
   "outputs": [],
   "source": [
    "# Uncomment the line below with you python version\n",
    "# if this is the first time you are running the notebook\n",
    "\n",
    "#!pip install category_encoders\n",
    "#!pip3 install category_encoders"
   ]
  },
  {
   "cell_type": "code",
   "execution_count": 2,
   "metadata": {},
   "outputs": [],
   "source": [
    "#imports\n",
    "import os\n",
    "import matplotlib.pyplot as plt\n",
    "import seaborn as sns\n",
    "import pandas as pd\n",
    "import numpy as np \n",
    "import category_encoders as ce\n",
    "\n",
    "from six.moves import urllib\n",
    "from sklearn import preprocessing\n",
    "from sklearn.model_selection import train_test_split, cross_val_score, cross_val_predict\n",
    "from sklearn.preprocessing import MinMaxScaler, LabelEncoder, OneHotEncoder, StandardScaler\n",
    "from sklearn.linear_model import LogisticRegression\n",
    "from sklearn import metrics\n",
    "from sklearn.model_selection import GridSearchCV, RandomizedSearchCV\n",
    "from sklearn import svm\n",
    "from sklearn.ensemble import RandomForestClassifier\n",
    "from sklearn.naive_bayes import GaussianNB"
   ]
  },
  {
   "cell_type": "code",
   "execution_count": 3,
   "metadata": {},
   "outputs": [],
   "source": [
    "DOWNLOAD_ROOT = \"http://archive.ics.uci.edu/ml/machine-learning-databases/credit-screening\"\n",
    "CREDIT_DATA_URL = DOWNLOAD_ROOT + \"/crx.data\"\n",
    "CREDIT_DATA_PATH = \"datasets/credit-screening\""
   ]
  },
  {
   "cell_type": "code",
   "execution_count": 4,
   "metadata": {},
   "outputs": [],
   "source": [
    "# fetch data from its origin\n",
    "def fetch_credit_card_data(credit_data_url=CREDIT_DATA_URL, credit_path=CREDIT_DATA_PATH):\n",
    "    if not os.path.isdir(credit_path):\n",
    "        os.makedirs(credit_path)\n",
    "    credit_data_path = os.path.join(credit_path, \"crx.data\")\n",
    "    urllib.request.urlretrieve(credit_data_url, credit_data_path)\n",
    "\n",
    "fetch_credit_card_data()"
   ]
  },
  {
   "cell_type": "code",
   "execution_count": 5,
   "metadata": {},
   "outputs": [],
   "source": [
    "# load data from csv file \n",
    "def load_credit_card_data(credit_data_path=CREDIT_DATA_PATH):\n",
    "    csv_path=os.path.join(credit_data_path, \"crx.data\")\n",
    "    pd.set_option('display.max_columns', None)\n",
    "    col_names = [\"Gender\",\"Age\",\"Debt\",\"Married\",\"BankCustomer\",\"EducationLevel\",\"Ethnicity\",\"YearsEmployed\",\"PriorDefault\",\"Employed\",\"CreditScore\", \"DriversLicense\", \"Citizen\", \"ZipCode\", \"Income\" , \"ApprovalStatus\"]\n",
    "    return pd.read_csv(csv_path, header=None, names=col_names)\n",
    "\n",
    "dataset = load_credit_card_data()\n",
    "dataframe = dataset.copy()\n"
   ]
  },
  {
   "cell_type": "code",
   "execution_count": 6,
   "metadata": {},
   "outputs": [],
   "source": [
    "dataset = dataset.drop(['DriversLicense', 'ZipCode', 'Ethnicity', 'Gender'], axis=1)\n",
    "\n",
    "# replace question mark with NaN\n",
    "# replace + and - with 1 and 0\n",
    "dataset = dataset.replace(\"?\", np.nan).replace('+', 1).replace('-', 0)\n",
    "\n",
    "# convert age from object to float\n",
    "dataset = dataset.astype({\"Age\": float})\n",
    "#replace missing numeric values with mean\n",
    "\n",
    "dataset.fillna(dataset.mean(), inplace=True)\n",
    "dataset.head(5)\n",
    "\n",
    "# replace missing object values with the most freequent value\n",
    "for col in dataset:\n",
    "    if dataset[col].dtypes == 'object':\n",
    "        dataset = dataset.fillna(dataset[col].value_counts().index[0])"
   ]
  },
  {
   "cell_type": "code",
   "execution_count": 7,
   "metadata": {},
   "outputs": [
    {
     "data": {
      "text/plain": [
       "0    383\n",
       "1    307\n",
       "Name: ApprovalStatus, dtype: int64"
      ]
     },
     "execution_count": 7,
     "metadata": {},
     "output_type": "execute_result"
    }
   ],
   "source": [
    "dataset['ApprovalStatus'].value_counts()"
   ]
  },
  {
   "cell_type": "code",
   "execution_count": 8,
   "metadata": {},
   "outputs": [
    {
     "data": {
      "text/plain": [
       "<matplotlib.axes._subplots.AxesSubplot at 0x1cf92b66f60>"
      ]
     },
     "execution_count": 8,
     "metadata": {},
     "output_type": "execute_result"
    },
    {
     "data": {
      "image/png": "[encoded data removed]",
      "text/plain": [
       "<Figure size 432x288 with 1 Axes>"
      ]
     },
     "metadata": {
      "needs_background": "light"
     },
     "output_type": "display_data"
    }
   ],
   "source": [
    "CountStatus = pd.value_counts(dataset['ApprovalStatus'].values, sort=False)\n",
    "plt.ylabel('Number of applications')\n",
    "plt.title('Approval status')\n",
    "CountStatus.plot.bar()"
   ]
  },
  {
   "cell_type": "code",
   "execution_count": 9,
   "metadata": {},
   "outputs": [
    {
     "data": {
      "text/plain": [
       "Age               float64\n",
       "Debt              float64\n",
       "Married            object\n",
       "BankCustomer       object\n",
       "EducationLevel     object\n",
       "YearsEmployed     float64\n",
       "PriorDefault       object\n",
       "Employed           object\n",
       "CreditScore         int64\n",
       "Citizen            object\n",
       "Income              int64\n",
       "ApprovalStatus      int64\n",
       "dtype: object"
      ]
     },
     "execution_count": 9,
     "metadata": {},
     "output_type": "execute_result"
    }
   ],
   "source": [
    "dataset.dtypes"
   ]
  },
  {
   "cell_type": "code",
   "execution_count": 10,
   "metadata": {},
   "outputs": [
    {
     "data": {
      "text/plain": [
       "Age               float64\n",
       "Debt              float64\n",
       "Married            object\n",
       "BankCustomer       object\n",
       "EducationLevel     object\n",
       "YearsEmployed     float64\n",
       "PriorDefault       object\n",
       "Employed           object\n",
       "CreditScore         int64\n",
       "Citizen            object\n",
       "Income              int64\n",
       "ApprovalStatus      int64\n",
       "dtype: object"
      ]
     },
     "execution_count": 10,
     "metadata": {},
     "output_type": "execute_result"
    }
   ],
   "source": [
    "# Label encode for correlation\n",
    "le = preprocessing.LabelEncoder()\n",
    "\n",
    "labelEncodedSet = dataset.copy()\n",
    "for col in dataset:\n",
    "    if labelEncodedSet[col].dtypes == 'object':\n",
    "        labelEncodedSet[col]=le.fit_transform(labelEncodedSet[col])\n",
    "\n",
    "dataset.dtypes"
   ]
  },
  {
   "cell_type": "code",
   "execution_count": 38,
   "metadata": {},
   "outputs": [
    {
     "data": {
      "text/plain": [
       "array([[<matplotlib.axes._subplots.AxesSubplot object at 0x000001CF956230F0>,\n",
       "        <matplotlib.axes._subplots.AxesSubplot object at 0x000001CF93685748>,\n",
       "        <matplotlib.axes._subplots.AxesSubplot object at 0x000001CF94FE05C0>],\n",
       "       [<matplotlib.axes._subplots.AxesSubplot object at 0x000001CF95005B38>,\n",
       "        <matplotlib.axes._subplots.AxesSubplot object at 0x000001CF950380F0>,\n",
       "        <matplotlib.axes._subplots.AxesSubplot object at 0x000001CF9505E668>],\n",
       "       [<matplotlib.axes._subplots.AxesSubplot object at 0x000001CF95084BE0>,\n",
       "        <matplotlib.axes._subplots.AxesSubplot object at 0x000001CF950B71D0>,\n",
       "        <matplotlib.axes._subplots.AxesSubplot object at 0x000001CF950B7208>],\n",
       "       [<matplotlib.axes._subplots.AxesSubplot object at 0x000001CF95103C88>,\n",
       "        <matplotlib.axes._subplots.AxesSubplot object at 0x000001CF95136240>,\n",
       "        <matplotlib.axes._subplots.AxesSubplot object at 0x000001CF9515D7B8>]],\n",
       "      dtype=object)"
      ]
     },
     "execution_count": 38,
     "metadata": {},
     "output_type": "execute_result"
    },
    {
     "data": {
      "image/png": "[encoded data removed]",
      "text/plain": [
       "<Figure size 1440x1080 with 12 Axes>"
      ]
     },
     "metadata": {
      "needs_background": "light"
     },
     "output_type": "display_data"
    }
   ],
   "source": [
    "labelEncodedSet.hist(bins=20, figsize=(20, 15))"
   ]
  },
  {
   "cell_type": "code",
   "execution_count": 12,
   "metadata": {},
   "outputs": [
    {
     "data": {
      "image/png": "[encoded data removed]",
      "text/plain": [
       "<Figure size 432x288 with 2 Axes>"
      ]
     },
     "metadata": {
      "needs_background": "light"
     },
     "output_type": "display_data"
    }
   ],
   "source": [
    "#Correlation heatmap\n",
    "def make_corr_heatmap(data):\n",
    "    corr = data.corr()\n",
    "    sns.heatmap(corr, \n",
    "                xticklabels=corr.columns.values,\n",
    "                yticklabels=corr.columns.values)\n",
    "\n",
    "make_corr_heatmap(labelEncodedSet)"
   ]
  },
  {
   "cell_type": "code",
   "execution_count": 13,
   "metadata": {},
   "outputs": [
    {
     "data": {
      "text/plain": [
       "Married          -0.194306\n",
       "BankCustomer     -0.165491\n",
       "Citizen          -0.100867\n",
       "EducationLevel    0.135625\n",
       "Age               0.161627\n",
       "Income            0.175657\n",
       "Debt              0.206294\n",
       "YearsEmployed     0.322475\n",
       "CreditScore       0.406410\n",
       "Employed          0.458301\n",
       "PriorDefault      0.720407\n",
       "ApprovalStatus    1.000000\n",
       "Name: ApprovalStatus, dtype: float64"
      ]
     },
     "execution_count": 13,
     "metadata": {},
     "output_type": "execute_result"
    }
   ],
   "source": [
    "#Correlation with ApprovalStatus\n",
    "labelEncodedSet.corr()['ApprovalStatus'].sort_values()"
   ]
  },
  {
   "cell_type": "code",
   "execution_count": 14,
   "metadata": {},
   "outputs": [
    {
     "data": {
      "text/plain": [
       "Age                  9.307123\n",
       "Debt                 3.941786\n",
       "Married              0.362222\n",
       "BankCustomer         0.754354\n",
       "EducationLevel       3.949422\n",
       "YearsEmployed        2.223883\n",
       "PriorDefault         0.498925\n",
       "Employed             0.489498\n",
       "CreditScore          3.088116\n",
       "Citizen              0.320311\n",
       "Income            1533.165402\n",
       "ApprovalStatus       0.493934\n",
       "dtype: float64"
      ]
     },
     "execution_count": 14,
     "metadata": {},
     "output_type": "execute_result"
    }
   ],
   "source": [
    "#use MAD to check the spread of the observation from the mean. MAD > std because we have outliers like age, income\n",
    "labelEncodedSet.mad()"
   ]
  },
  {
   "cell_type": "code",
   "execution_count": 15,
   "metadata": {},
   "outputs": [
    {
     "data": {
      "text/html": [
       "<div>\n",
       "<style scoped>\n",
       "    .dataframe tbody tr th:only-of-type {\n",
       "        vertical-align: middle;\n",
       "    }\n",
       "\n",
       "    .dataframe tbody tr th {\n",
       "        vertical-align: top;\n",
       "    }\n",
       "\n",
       "    .dataframe thead th {\n",
       "        text-align: right;\n",
       "    }\n",
       "</style>\n",
       "<table border=\"1\" class=\"dataframe\">\n",
       "  <thead>\n",
       "    <tr style=\"text-align: right;\">\n",
       "      <th></th>\n",
       "      <th>Age</th>\n",
       "      <th>Debt</th>\n",
       "      <th>Married</th>\n",
       "      <th>BankCustomer</th>\n",
       "      <th>EducationLevel</th>\n",
       "      <th>YearsEmployed</th>\n",
       "      <th>PriorDefault</th>\n",
       "      <th>Employed</th>\n",
       "      <th>CreditScore</th>\n",
       "      <th>Citizen</th>\n",
       "      <th>Income</th>\n",
       "      <th>ApprovalStatus</th>\n",
       "    </tr>\n",
       "  </thead>\n",
       "  <tbody>\n",
       "    <tr>\n",
       "      <th>0</th>\n",
       "      <td>30.83</td>\n",
       "      <td>0.000</td>\n",
       "      <td>u</td>\n",
       "      <td>g</td>\n",
       "      <td>w</td>\n",
       "      <td>1.25</td>\n",
       "      <td>t</td>\n",
       "      <td>t</td>\n",
       "      <td>1</td>\n",
       "      <td>g</td>\n",
       "      <td>0</td>\n",
       "      <td>1</td>\n",
       "    </tr>\n",
       "    <tr>\n",
       "      <th>1</th>\n",
       "      <td>58.67</td>\n",
       "      <td>4.460</td>\n",
       "      <td>u</td>\n",
       "      <td>g</td>\n",
       "      <td>q</td>\n",
       "      <td>3.04</td>\n",
       "      <td>t</td>\n",
       "      <td>t</td>\n",
       "      <td>6</td>\n",
       "      <td>g</td>\n",
       "      <td>560</td>\n",
       "      <td>1</td>\n",
       "    </tr>\n",
       "    <tr>\n",
       "      <th>2</th>\n",
       "      <td>24.50</td>\n",
       "      <td>0.500</td>\n",
       "      <td>u</td>\n",
       "      <td>g</td>\n",
       "      <td>q</td>\n",
       "      <td>1.50</td>\n",
       "      <td>t</td>\n",
       "      <td>f</td>\n",
       "      <td>0</td>\n",
       "      <td>g</td>\n",
       "      <td>824</td>\n",
       "      <td>1</td>\n",
       "    </tr>\n",
       "    <tr>\n",
       "      <th>3</th>\n",
       "      <td>27.83</td>\n",
       "      <td>1.540</td>\n",
       "      <td>u</td>\n",
       "      <td>g</td>\n",
       "      <td>w</td>\n",
       "      <td>3.75</td>\n",
       "      <td>t</td>\n",
       "      <td>t</td>\n",
       "      <td>5</td>\n",
       "      <td>g</td>\n",
       "      <td>3</td>\n",
       "      <td>1</td>\n",
       "    </tr>\n",
       "    <tr>\n",
       "      <th>4</th>\n",
       "      <td>20.17</td>\n",
       "      <td>5.625</td>\n",
       "      <td>u</td>\n",
       "      <td>g</td>\n",
       "      <td>w</td>\n",
       "      <td>1.71</td>\n",
       "      <td>t</td>\n",
       "      <td>f</td>\n",
       "      <td>0</td>\n",
       "      <td>s</td>\n",
       "      <td>0</td>\n",
       "      <td>1</td>\n",
       "    </tr>\n",
       "  </tbody>\n",
       "</table>\n",
       "</div>"
      ],
      "text/plain": [
       "     Age   Debt Married BankCustomer EducationLevel  YearsEmployed  \\\n",
       "0  30.83  0.000       u            g              w           1.25   \n",
       "1  58.67  4.460       u            g              q           3.04   \n",
       "2  24.50  0.500       u            g              q           1.50   \n",
       "3  27.83  1.540       u            g              w           3.75   \n",
       "4  20.17  5.625       u            g              w           1.71   \n",
       "\n",
       "  PriorDefault Employed  CreditScore Citizen  Income  ApprovalStatus  \n",
       "0            t        t            1       g       0               1  \n",
       "1            t        t            6       g     560               1  \n",
       "2            t        f            0       g     824               1  \n",
       "3            t        t            5       g       3               1  \n",
       "4            t        f            0       s       0               1  "
      ]
     },
     "execution_count": 15,
     "metadata": {},
     "output_type": "execute_result"
    }
   ],
   "source": [
    "#drop columns with the lowest correlation, or columns that do not make sense\n",
    "#dataset = dataset.drop(['DriversLicense', 'ZipCode', 'Ethnicity', 'Gender'], axis=1)\n",
    "dataset.head()"
   ]
  },
  {
   "cell_type": "code",
   "execution_count": 16,
   "metadata": {},
   "outputs": [
    {
     "data": {
      "text/html": [
       "<div>\n",
       "<style scoped>\n",
       "    .dataframe tbody tr th:only-of-type {\n",
       "        vertical-align: middle;\n",
       "    }\n",
       "\n",
       "    .dataframe tbody tr th {\n",
       "        vertical-align: top;\n",
       "    }\n",
       "\n",
       "    .dataframe thead th {\n",
       "        text-align: right;\n",
       "    }\n",
       "</style>\n",
       "<table border=\"1\" class=\"dataframe\">\n",
       "  <thead>\n",
       "    <tr style=\"text-align: right;\">\n",
       "      <th></th>\n",
       "      <th>Age</th>\n",
       "      <th>Debt</th>\n",
       "      <th>Married_u</th>\n",
       "      <th>Married_y</th>\n",
       "      <th>Married_l</th>\n",
       "      <th>BankCustomer_g</th>\n",
       "      <th>BankCustomer_p</th>\n",
       "      <th>BankCustomer_u</th>\n",
       "      <th>BankCustomer_gg</th>\n",
       "      <th>EducationLevel_w</th>\n",
       "      <th>EducationLevel_q</th>\n",
       "      <th>EducationLevel_m</th>\n",
       "      <th>EducationLevel_r</th>\n",
       "      <th>EducationLevel_cc</th>\n",
       "      <th>EducationLevel_k</th>\n",
       "      <th>EducationLevel_c</th>\n",
       "      <th>EducationLevel_d</th>\n",
       "      <th>EducationLevel_x</th>\n",
       "      <th>EducationLevel_i</th>\n",
       "      <th>EducationLevel_e</th>\n",
       "      <th>EducationLevel_aa</th>\n",
       "      <th>EducationLevel_ff</th>\n",
       "      <th>EducationLevel_j</th>\n",
       "      <th>EducationLevel_u</th>\n",
       "      <th>YearsEmployed</th>\n",
       "      <th>PriorDefault_t</th>\n",
       "      <th>PriorDefault_f</th>\n",
       "      <th>Employed_t</th>\n",
       "      <th>Employed_f</th>\n",
       "      <th>CreditScore</th>\n",
       "      <th>Citizen_g</th>\n",
       "      <th>Citizen_s</th>\n",
       "      <th>Citizen_p</th>\n",
       "      <th>Income</th>\n",
       "      <th>ApprovalStatus</th>\n",
       "    </tr>\n",
       "  </thead>\n",
       "  <tbody>\n",
       "    <tr>\n",
       "      <th>0</th>\n",
       "      <td>30.83</td>\n",
       "      <td>0.000</td>\n",
       "      <td>1</td>\n",
       "      <td>0</td>\n",
       "      <td>0</td>\n",
       "      <td>1</td>\n",
       "      <td>0</td>\n",
       "      <td>0</td>\n",
       "      <td>0</td>\n",
       "      <td>1</td>\n",
       "      <td>0</td>\n",
       "      <td>0</td>\n",
       "      <td>0</td>\n",
       "      <td>0</td>\n",
       "      <td>0</td>\n",
       "      <td>0</td>\n",
       "      <td>0</td>\n",
       "      <td>0</td>\n",
       "      <td>0</td>\n",
       "      <td>0</td>\n",
       "      <td>0</td>\n",
       "      <td>0</td>\n",
       "      <td>0</td>\n",
       "      <td>0</td>\n",
       "      <td>1.25</td>\n",
       "      <td>1</td>\n",
       "      <td>0</td>\n",
       "      <td>1</td>\n",
       "      <td>0</td>\n",
       "      <td>1</td>\n",
       "      <td>1</td>\n",
       "      <td>0</td>\n",
       "      <td>0</td>\n",
       "      <td>0</td>\n",
       "      <td>1</td>\n",
       "    </tr>\n",
       "    <tr>\n",
       "      <th>1</th>\n",
       "      <td>58.67</td>\n",
       "      <td>4.460</td>\n",
       "      <td>1</td>\n",
       "      <td>0</td>\n",
       "      <td>0</td>\n",
       "      <td>1</td>\n",
       "      <td>0</td>\n",
       "      <td>0</td>\n",
       "      <td>0</td>\n",
       "      <td>0</td>\n",
       "      <td>1</td>\n",
       "      <td>0</td>\n",
       "      <td>0</td>\n",
       "      <td>0</td>\n",
       "      <td>0</td>\n",
       "      <td>0</td>\n",
       "      <td>0</td>\n",
       "      <td>0</td>\n",
       "      <td>0</td>\n",
       "      <td>0</td>\n",
       "      <td>0</td>\n",
       "      <td>0</td>\n",
       "      <td>0</td>\n",
       "      <td>0</td>\n",
       "      <td>3.04</td>\n",
       "      <td>1</td>\n",
       "      <td>0</td>\n",
       "      <td>1</td>\n",
       "      <td>0</td>\n",
       "      <td>6</td>\n",
       "      <td>1</td>\n",
       "      <td>0</td>\n",
       "      <td>0</td>\n",
       "      <td>560</td>\n",
       "      <td>1</td>\n",
       "    </tr>\n",
       "    <tr>\n",
       "      <th>2</th>\n",
       "      <td>24.50</td>\n",
       "      <td>0.500</td>\n",
       "      <td>1</td>\n",
       "      <td>0</td>\n",
       "      <td>0</td>\n",
       "      <td>1</td>\n",
       "      <td>0</td>\n",
       "      <td>0</td>\n",
       "      <td>0</td>\n",
       "      <td>0</td>\n",
       "      <td>1</td>\n",
       "      <td>0</td>\n",
       "      <td>0</td>\n",
       "      <td>0</td>\n",
       "      <td>0</td>\n",
       "      <td>0</td>\n",
       "      <td>0</td>\n",
       "      <td>0</td>\n",
       "      <td>0</td>\n",
       "      <td>0</td>\n",
       "      <td>0</td>\n",
       "      <td>0</td>\n",
       "      <td>0</td>\n",
       "      <td>0</td>\n",
       "      <td>1.50</td>\n",
       "      <td>1</td>\n",
       "      <td>0</td>\n",
       "      <td>0</td>\n",
       "      <td>1</td>\n",
       "      <td>0</td>\n",
       "      <td>1</td>\n",
       "      <td>0</td>\n",
       "      <td>0</td>\n",
       "      <td>824</td>\n",
       "      <td>1</td>\n",
       "    </tr>\n",
       "    <tr>\n",
       "      <th>3</th>\n",
       "      <td>27.83</td>\n",
       "      <td>1.540</td>\n",
       "      <td>1</td>\n",
       "      <td>0</td>\n",
       "      <td>0</td>\n",
       "      <td>1</td>\n",
       "      <td>0</td>\n",
       "      <td>0</td>\n",
       "      <td>0</td>\n",
       "      <td>1</td>\n",
       "      <td>0</td>\n",
       "      <td>0</td>\n",
       "      <td>0</td>\n",
       "      <td>0</td>\n",
       "      <td>0</td>\n",
       "      <td>0</td>\n",
       "      <td>0</td>\n",
       "      <td>0</td>\n",
       "      <td>0</td>\n",
       "      <td>0</td>\n",
       "      <td>0</td>\n",
       "      <td>0</td>\n",
       "      <td>0</td>\n",
       "      <td>0</td>\n",
       "      <td>3.75</td>\n",
       "      <td>1</td>\n",
       "      <td>0</td>\n",
       "      <td>1</td>\n",
       "      <td>0</td>\n",
       "      <td>5</td>\n",
       "      <td>1</td>\n",
       "      <td>0</td>\n",
       "      <td>0</td>\n",
       "      <td>3</td>\n",
       "      <td>1</td>\n",
       "    </tr>\n",
       "    <tr>\n",
       "      <th>4</th>\n",
       "      <td>20.17</td>\n",
       "      <td>5.625</td>\n",
       "      <td>1</td>\n",
       "      <td>0</td>\n",
       "      <td>0</td>\n",
       "      <td>1</td>\n",
       "      <td>0</td>\n",
       "      <td>0</td>\n",
       "      <td>0</td>\n",
       "      <td>1</td>\n",
       "      <td>0</td>\n",
       "      <td>0</td>\n",
       "      <td>0</td>\n",
       "      <td>0</td>\n",
       "      <td>0</td>\n",
       "      <td>0</td>\n",
       "      <td>0</td>\n",
       "      <td>0</td>\n",
       "      <td>0</td>\n",
       "      <td>0</td>\n",
       "      <td>0</td>\n",
       "      <td>0</td>\n",
       "      <td>0</td>\n",
       "      <td>0</td>\n",
       "      <td>1.71</td>\n",
       "      <td>1</td>\n",
       "      <td>0</td>\n",
       "      <td>0</td>\n",
       "      <td>1</td>\n",
       "      <td>0</td>\n",
       "      <td>0</td>\n",
       "      <td>1</td>\n",
       "      <td>0</td>\n",
       "      <td>0</td>\n",
       "      <td>1</td>\n",
       "    </tr>\n",
       "  </tbody>\n",
       "</table>\n",
       "</div>"
      ],
      "text/plain": [
       "     Age   Debt  Married_u  Married_y  Married_l  BankCustomer_g  \\\n",
       "0  30.83  0.000          1          0          0               1   \n",
       "1  58.67  4.460          1          0          0               1   \n",
       "2  24.50  0.500          1          0          0               1   \n",
       "3  27.83  1.540          1          0          0               1   \n",
       "4  20.17  5.625          1          0          0               1   \n",
       "\n",
       "   BankCustomer_p  BankCustomer_u  BankCustomer_gg  EducationLevel_w  \\\n",
       "0               0               0                0                 1   \n",
       "1               0               0                0                 0   \n",
       "2               0               0                0                 0   \n",
       "3               0               0                0                 1   \n",
       "4               0               0                0                 1   \n",
       "\n",
       "   EducationLevel_q  EducationLevel_m  EducationLevel_r  EducationLevel_cc  \\\n",
       "0                 0                 0                 0                  0   \n",
       "1                 1                 0                 0                  0   \n",
       "2                 1                 0                 0                  0   \n",
       "3                 0                 0                 0                  0   \n",
       "4                 0                 0                 0                  0   \n",
       "\n",
       "   EducationLevel_k  EducationLevel_c  EducationLevel_d  EducationLevel_x  \\\n",
       "0                 0                 0                 0                 0   \n",
       "1                 0                 0                 0                 0   \n",
       "2                 0                 0                 0                 0   \n",
       "3                 0                 0                 0                 0   \n",
       "4                 0                 0                 0                 0   \n",
       "\n",
       "   EducationLevel_i  EducationLevel_e  EducationLevel_aa  EducationLevel_ff  \\\n",
       "0                 0                 0                  0                  0   \n",
       "1                 0                 0                  0                  0   \n",
       "2                 0                 0                  0                  0   \n",
       "3                 0                 0                  0                  0   \n",
       "4                 0                 0                  0                  0   \n",
       "\n",
       "   EducationLevel_j  EducationLevel_u  YearsEmployed  PriorDefault_t  \\\n",
       "0                 0                 0           1.25               1   \n",
       "1                 0                 0           3.04               1   \n",
       "2                 0                 0           1.50               1   \n",
       "3                 0                 0           3.75               1   \n",
       "4                 0                 0           1.71               1   \n",
       "\n",
       "   PriorDefault_f  Employed_t  Employed_f  CreditScore  Citizen_g  Citizen_s  \\\n",
       "0               0           1           0            1          1          0   \n",
       "1               0           1           0            6          1          0   \n",
       "2               0           0           1            0          1          0   \n",
       "3               0           1           0            5          1          0   \n",
       "4               0           0           1            0          0          1   \n",
       "\n",
       "   Citizen_p  Income  ApprovalStatus  \n",
       "0          0       0               1  \n",
       "1          0     560               1  \n",
       "2          0     824               1  \n",
       "3          0       3               1  \n",
       "4          0       0               1  "
      ]
     },
     "execution_count": 16,
     "metadata": {},
     "output_type": "execute_result"
    }
   ],
   "source": [
    "ohe = ce.OneHotEncoder(handle_unknown='ignore', use_cat_names=True)\n",
    "dataset = ohe.fit_transform(dataset)\n",
    "dataset.head()"
   ]
  },
  {
   "cell_type": "code",
   "execution_count": 17,
   "metadata": {},
   "outputs": [
    {
     "data": {
      "text/plain": [
       "PriorDefault_f      -0.720407\n",
       "Employed_f          -0.458301\n",
       "BankCustomer_p      -0.188964\n",
       "Married_y           -0.188964\n",
       "EducationLevel_ff   -0.181588\n",
       "EducationLevel_i    -0.127762\n",
       "Citizen_s           -0.109758\n",
       "EducationLevel_k    -0.096879\n",
       "EducationLevel_d    -0.090776\n",
       "EducationLevel_aa   -0.054574\n",
       "EducationLevel_j    -0.035365\n",
       "EducationLevel_m    -0.011598\n",
       "EducationLevel_u    -0.000112\n",
       "EducationLevel_c     0.007639\n",
       "EducationLevel_r     0.029485\n",
       "Citizen_p            0.039245\n",
       "BankCustomer_u       0.041790\n",
       "EducationLevel_e     0.044896\n",
       "EducationLevel_w     0.045487\n",
       "Married_l            0.060221\n",
       "BankCustomer_gg      0.060221\n",
       "Citizen_g            0.089056\n",
       "EducationLevel_cc    0.132708\n",
       "EducationLevel_q     0.150082\n",
       "Age                  0.161627\n",
       "BankCustomer_g       0.169423\n",
       "Income               0.175657\n",
       "Married_u            0.180583\n",
       "EducationLevel_x     0.192945\n",
       "Debt                 0.206294\n",
       "YearsEmployed        0.322475\n",
       "CreditScore          0.406410\n",
       "Employed_t           0.458301\n",
       "PriorDefault_t       0.720407\n",
       "ApprovalStatus       1.000000\n",
       "Name: ApprovalStatus, dtype: float64"
      ]
     },
     "execution_count": 17,
     "metadata": {},
     "output_type": "execute_result"
    }
   ],
   "source": [
    "dataset.corr()['ApprovalStatus'].sort_values()"
   ]
  },
  {
   "cell_type": "code",
   "execution_count": 18,
   "metadata": {},
   "outputs": [],
   "source": [
    "#separate the features and labels\n",
    "dataset = dataset.values\n",
    "X,y = dataset[:,0:34] , dataset[:,34]"
   ]
  },
  {
   "cell_type": "code",
   "execution_count": 19,
   "metadata": {},
   "outputs": [],
   "source": [
    "#split the dataset into train, validation and test\n",
    "X_train, X_test, y_train, y_test = train_test_split(X, y, test_size=0.2, random_state=1)\n",
    "\n",
    "X_train, X_val, y_train, y_val = train_test_split(X_train, y_train, test_size=0.2, random_state=1)"
   ]
  },
  {
   "cell_type": "code",
   "execution_count": 20,
   "metadata": {},
   "outputs": [],
   "source": [
    "#rescale the training and testing sets\n",
    "#scaler = MinMaxScaler(feature_range=(0, 1))\n",
    "scaler = MinMaxScaler()\n",
    "rescaledX_train = scaler.fit_transform(X_train)\n",
    "rescaledX_test = scaler.transform(X_test)\n",
    "rescaledX_val = scaler.fit_transform(X_val)"
   ]
  },
  {
   "cell_type": "code",
   "execution_count": 21,
   "metadata": {},
   "outputs": [],
   "source": [
    "#instantiate the algorithms\n",
    "rfc = RandomForestClassifier(random_state=42, n_estimators=100)\n",
    "gnb = GaussianNB()\n",
    "logreg = LogisticRegression(solver='liblinear')"
   ]
  },
  {
   "cell_type": "code",
   "execution_count": 43,
   "metadata": {
    "scrolled": false
   },
   "outputs": [
    {
     "name": "stdout",
     "output_type": "stream",
     "text": [
      "Random Forest\n",
      "AUC:  0.9160792123392743\n",
      "F1:  0.839058160647976\n",
      "Precission:  0.8275687632465851\n",
      "Recall (Sensitivity):  0.8570412517780939\n",
      "Accuracy:  0.8574786023739918\n",
      "Sensitivity:  0.8571428571428571\n",
      "Specificity:  0.8571428571428571\n",
      "Youden's index 0.8321584246785485\n",
      "Youden's index formula 0.7142857142857142\n",
      "True Negatives:  216\n",
      "False Positives:  36\n",
      "False Negatives:  27\n",
      "True Positives:  162\n"
     ]
    }
   ],
   "source": [
    "print(\"Random Forest\")\n",
    "\n",
    "roc_rfc = cross_val_score(rfc, rescaledX_train, y_train, scoring='roc_auc', cv = 5).mean()\n",
    "f1_rfc = cross_val_score(rfc, rescaledX_train, y_train, scoring='f1', cv = 5).mean()\n",
    "precision_rfc = cross_val_score(rfc, rescaledX_train, y_train, scoring='precision', cv = 5).mean()\n",
    "rec_rfc = cross_val_score(rfc, rescaledX_train, y_train, scoring='recall', cv = 5).mean()\n",
    "acc_rfc = cross_val_score(rfc, rescaledX_train, y_train, scoring='accuracy', cv = 5).mean()\n",
    "\n",
    "y_pred_rfc = cross_val_predict(rfc, rescaledX_train, y_train, cv=5)\n",
    "cnf_matrix_rfc = metrics.confusion_matrix(y_train, y_pred_rfc)\n",
    "tn_rfc, fp_rfc, fn_rfc, tp_rfc = cnf_matrix_rfc.ravel()\n",
    "\n",
    "yi_rfc = 2*roc_rfc-1\n",
    "sensitivity_rfc = tp_rfc/(tp_rfc + fn_rfc)\n",
    "specificity_rfc = tn_rfc/(fp_rfc + tn_rfc)\n",
    "yi_rfc_formula = sensitivity_rfc - (1 - specificity_rfc)\n",
    "\n",
    "print(\"AUC: \" , roc_rfc)\n",
    "print(\"F1: \" , f1_rfc)\n",
    "print(\"Precission: \" , precision_rfc)\n",
    "print(\"Recall (Sensitivity): \" , rec_rfc)\n",
    "print(\"Accuracy: \" , acc_rfc)\n",
    "print(\"Sensitivity: \" ,  sensitivity_rfc)\n",
    "print(\"Specificity: \" ,  specificity_rfc)\n",
    "print(\"Youden's index\", yi_rfc)\n",
    "print(\"Youden's index formula\", yi_rfc_formula)\n",
    "print(\"True Negatives: \",tn_rfc)\n",
    "print(\"False Positives: \",fp_rfc)\n",
    "print(\"False Negatives: \",fn_rfc)\n",
    "print(\"True Positives: \",tp_rfc)"
   ]
  },
  {
   "cell_type": "code",
   "execution_count": 23,
   "metadata": {
    "scrolled": true
   },
   "outputs": [
    {
     "name": "stdout",
     "output_type": "stream",
     "text": [
      "Naive Bayes\n",
      "AUC 0.8645021894959977\n",
      "F1:  0.5047819461360978\n",
      "Precission:  0.8648711390910881\n",
      "Recall (Sensitivity): 0.36443812233285916\n",
      "Accuracy:  0.7029451821586653\n",
      "Sensitivity:  0.36507936507936506\n",
      "Specificity:  0.9563492063492064\n",
      "Youden's index:  0.7290043789919953\n",
      "Youden's index formula:  0.32142857142857145\n",
      "True Negatives:  241\n",
      "False Positives:  11\n",
      "False Negatives:  120\n",
      "True Positives:  69\n"
     ]
    }
   ],
   "source": [
    "print(\"Naive Bayes\")\n",
    "\n",
    "roc_gnb = cross_val_score(gnb, rescaledX_train, y_train, scoring='roc_auc', cv = 5).mean()\n",
    "f1_gnb = cross_val_score(gnb, rescaledX_train, y_train, scoring='f1', cv = 5).mean()\n",
    "precision_gnb = cross_val_score(gnb, rescaledX_train, y_train, scoring='precision', cv = 5).mean()\n",
    "rec_gnb = cross_val_score(gnb, rescaledX_train, y_train, scoring='recall', cv = 5).mean()\n",
    "acc_gnb= cross_val_score(gnb, rescaledX_train, y_train, scoring='accuracy', cv = 5).mean()\n",
    "\n",
    "y_pred_gnb = cross_val_predict(gnb, rescaledX_train, y_train, cv=5)\n",
    "cnf_matrix_gnb = metrics.confusion_matrix(y_train,y_pred_gnb)\n",
    "tn_gnb, fp_gnb, fn_gnb, tp_gnb = cnf_matrix_gnb.ravel()\n",
    "\n",
    "yi_gnb = 2*roc_gnb-1\n",
    "sensitivity_gnb = tp_gnb/(tp_gnb+fn_gnb)\n",
    "specificity_gnb = tn_gnb/(fp_gnb+tn_gnb)\n",
    "yi_gnb_formula = sensitivity_gnb - (1 - specificity_gnb)\n",
    "\n",
    "print(\"AUC\" , roc_gnb)\n",
    "print(\"F1: \" , f1_gnb)\n",
    "print(\"Precission: \" , precision_gnb)\n",
    "print(\"Recall (Sensitivity):\" , rec_gnb)\n",
    "print(\"Accuracy: \" , acc_gnb)\n",
    "print(\"Sensitivity: \" ,  sensitivity_gnb)\n",
    "print(\"Specificity: \" ,  specificity_gnb)\n",
    "print(\"Youden's index: \", yi_gnb)\n",
    "print(\"Youden's index formula: \", yi_gnb_formula)\n",
    "print(\"True Negatives: \",tn_gnb)\n",
    "print(\"False Positives: \",fp_gnb)\n",
    "print(\"False Negatives: \",fn_gnb)\n",
    "print(\"True Positives: \",tp_gnb)"
   ]
  },
  {
   "cell_type": "code",
   "execution_count": 24,
   "metadata": {},
   "outputs": [
    {
     "name": "stdout",
     "output_type": "stream",
     "text": [
      "Logistic regression\n",
      "AUC of Logistic Regression is:  0.9073592725852787\n",
      "F1:  0.8319986513123767\n",
      "Precision:  0.7995251161505491\n",
      "Recall (Sensitivity):  0.8726884779516357\n",
      "Accuracy:  0.8483087363366325\n",
      "Sensitivity:  0.873015873015873\n",
      "Specificity:  0.8293650793650794\n",
      "Youden's index 0.8147185451705574\n",
      "Youden's index formula 0.7023809523809524\n",
      "True Negatives:  209\n",
      "False Positives:  43\n",
      "False Negatives:  24\n",
      "True Positives:  165\n"
     ]
    }
   ],
   "source": [
    "print(\"Logistic regression\")\n",
    "\n",
    "roc_logreg = cross_val_score(logreg, rescaledX_train, y_train, scoring='roc_auc', cv = 5).mean()\n",
    "f1_logreg = cross_val_score(logreg, rescaledX_train, y_train, scoring='f1', cv = 5).mean()\n",
    "precision_logreg = cross_val_score(logreg, rescaledX_train, y_train, scoring='precision', cv = 5).mean()\n",
    "rec_logreg = cross_val_score(logreg, rescaledX_train, y_train, scoring='recall', cv = 5).mean()\n",
    "acc_logreg = cross_val_score(logreg, rescaledX_train, y_train, scoring='accuracy', cv = 5).mean()\n",
    "\n",
    "y_pred_val_logreg = cross_val_predict(logreg, rescaledX_train, y_train, cv=5)\n",
    "# Compute confusion matrix\n",
    "cnf_matrix_logreg = metrics.confusion_matrix(y_train, y_pred_val_logreg)\n",
    "tn_logreg, fp_logreg, fn_logreg, tp_logreg = cnf_matrix_logreg.ravel()\n",
    "\n",
    "yi_logreg = 2*roc_logreg-1\n",
    "sensitivity_logreg = tp_logreg/(tp_logreg+fn_logreg)\n",
    "specificity_logreg = tn_logreg/(fp_logreg+tn_logreg)\n",
    "yi_logreg_formula = sensitivity_logreg - (1 - specificity_logreg)\n",
    "\n",
    "print(\"AUC of Logistic Regression is: \" , roc_logreg)\n",
    "print(\"F1: \" , f1_logreg)\n",
    "print(\"Precision: \" , precision_logreg)\n",
    "print(\"Recall (Sensitivity): \" , rec_logreg)\n",
    "print(\"Accuracy: \" , acc_logreg)\n",
    "print(\"Sensitivity: \" ,  sensitivity_logreg)\n",
    "print(\"Specificity: \" ,  specificity_logreg)\n",
    "print(\"Youden's index\", yi_logreg)\n",
    "print(\"Youden's index formula\", yi_logreg_formula)\n",
    "print(\"True Negatives: \",tn_logreg)\n",
    "print(\"False Positives: \",fp_logreg)\n",
    "print(\"False Negatives: \",fn_logreg)\n",
    "print(\"True Positives: \",tp_logreg)\n"
   ]
  },
  {
   "cell_type": "code",
   "execution_count": 25,
   "metadata": {},
   "outputs": [],
   "source": [
    "import itertools    \n",
    "\n",
    "# function to plot confusion matrix\n",
    "def plot_confusion_matrix(cm, classes,\n",
    "                          normalize=False,\n",
    "                          title='Confusion matrix',\n",
    "                          cmap=plt.cm.Blues):\n",
    "    \"\"\"\n",
    "    This function prints and plots the confusion matrix.\n",
    "    Normalization can be applied by setting `normalize=True`.\n",
    "    \"\"\"\n",
    "    if normalize:\n",
    "        cm = cm.astype('float') / cm.sum(axis=1)[:, np.newaxis]\n",
    "        print(\"Normalized confusion matrix\")\n",
    "    else:\n",
    "        print('Confusion matrix, without normalization')\n",
    "\n",
    "    print(cm)\n",
    "\n",
    "    plt.imshow(cm, interpolation='nearest', cmap=cmap)\n",
    "    plt.title(title)\n",
    "    plt.colorbar()\n",
    "    tick_marks = np.arange(len(classes))\n",
    "    plt.xticks(tick_marks, classes, rotation=45)\n",
    "    plt.yticks(tick_marks, classes)\n",
    "\n",
    "    fmt = '.2f' if normalize else 'd'\n",
    "    thresh = cm.max() / 2.\n",
    "    for i, j in itertools.product(range(cm.shape[0]), range(cm.shape[1])):\n",
    "        plt.text(j, i, format(cm[i, j], fmt),\n",
    "                 horizontalalignment=\"center\",\n",
    "                 color=\"white\" if cm[i, j] > thresh else \"black\")\n",
    "\n",
    "    plt.ylabel('True label')\n",
    "    plt.xlabel('Predicted label')\n",
    "    plt.tight_layout()\n"
   ]
  },
  {
   "cell_type": "code",
   "execution_count": 26,
   "metadata": {},
   "outputs": [
    {
     "name": "stdout",
     "output_type": "stream",
     "text": [
      "Random forest\n",
      "Confusion matrix, without normalization\n",
      "[[216  36]\n",
      " [ 27 162]]\n"
     ]
    },
    {
     "data": {
      "image/png": "[encoded data removed]",
      "text/plain": [
       "<Figure size 432x288 with 2 Axes>"
      ]
     },
     "metadata": {
      "needs_background": "light"
     },
     "output_type": "display_data"
    }
   ],
   "source": [
    "print(\"Random forest\")\n",
    "# Plot non-normalized confusion matrix\n",
    "plt.figure()\n",
    "plot_confusion_matrix(cnf_matrix_rfc, classes=['Approved','Denied'],\n",
    "                      title='Confusion matrix, without normalization')"
   ]
  },
  {
   "cell_type": "code",
   "execution_count": 27,
   "metadata": {},
   "outputs": [
    {
     "name": "stdout",
     "output_type": "stream",
     "text": [
      "Naive Bayes\n",
      "Confusion matrix, without normalization\n",
      "[[241  11]\n",
      " [120  69]]\n"
     ]
    },
    {
     "data": {
      "image/png": "[encoded data removed]",
      "text/plain": [
       "<Figure size 432x288 with 2 Axes>"
      ]
     },
     "metadata": {
      "needs_background": "light"
     },
     "output_type": "display_data"
    }
   ],
   "source": [
    "print(\"Naive Bayes\")\n",
    "# Plot non-normalized confusion matrix\n",
    "plt.figure()\n",
    "plot_confusion_matrix(cnf_matrix_gnb, classes=['Approved','Denied'],\n",
    "                      title='Confusion matrix, without normalization')"
   ]
  },
  {
   "cell_type": "code",
   "execution_count": 28,
   "metadata": {},
   "outputs": [
    {
     "name": "stdout",
     "output_type": "stream",
     "text": [
      "Logistic regression\n",
      "Confusion matrix, without normalization\n",
      "[[209  43]\n",
      " [ 24 165]]\n"
     ]
    },
    {
     "data": {
      "image/png": "[encoded data removed]",
      "text/plain": [
       "<Figure size 432x288 with 2 Axes>"
      ]
     },
     "metadata": {
      "needs_background": "light"
     },
     "output_type": "display_data"
    }
   ],
   "source": [
    "print(\"Logistic regression\")\n",
    "# Plot non-normalized confusion matrix\n",
    "plt.figure()\n",
    "plot_confusion_matrix(cnf_matrix_logreg, classes=['Approved','Denied'],\n",
    "                      title='Confusion matrix, without normalization')"
   ]
  },
  {
   "cell_type": "code",
   "execution_count": 42,
   "metadata": {},
   "outputs": [],
   "source": [
    "param_grid = {\n",
    "    'max_depth': np.linspace(1, 32, 32, endpoint=True),\n",
    "    'max_features': list(range(1,rescaledX_train.shape[1])),\n",
    "    'min_samples_leaf': np.linspace(0.1, 0.5, 5, endpoint=True),\n",
    "    'min_samples_split': np.linspace(0.1, 1.0, 10, endpoint=True),\n",
    "    'n_estimators': [1, 2, 4, 8, 16, 32, 64, 100, 200]\n",
    "}\n",
    "#grid_search = GridSearchCV(estimator = rfc, param_grid = param_grid, \n",
    "                          #cv = 5, n_jobs = -1, verbose = 2)\n",
    "#grid_search.fit(rescaledX_val, y_val)\n",
    "\n",
    "#rgs = RandomizedSearchCV(estimator=rfc, param_distributions  = param_grid, n_iter = 5000, cv = 10, n_jobs = -1, verbose = 2)\n",
    "#rgs.fit(rescaledX_val, y_val)\n",
    "\n",
    "#rgs.best_params_"
   ]
  },
  {
   "cell_type": "code",
   "execution_count": 30,
   "metadata": {},
   "outputs": [],
   "source": [
    "#instantiate rfc with the best parameters\n",
    "#rfc_best_model = RandomForestClassifier(max_depth=26.0,max_features=3,min_samples_leaf=0.1,min_samples_split= 0.3,n_estimators=8,random_state=42)\n",
    "rfc_best_model = RandomForestClassifier(max_depth=20.0,max_features=3,min_samples_leaf=0.1,min_samples_split= 0.3,n_estimators=10,random_state=42)\n",
    "#fit the train data\n",
    "rfc_best_model.fit(rescaledX_train, y_train)\n",
    "#predict on validation set\n",
    "y_pred_val = rfc_best_model.predict(rescaledX_val)"
   ]
  },
  {
   "cell_type": "code",
   "execution_count": 31,
   "metadata": {},
   "outputs": [
    {
     "name": "stdout",
     "output_type": "stream",
     "text": [
      "AUC:  0.8923701298701299\n",
      "F1:  0.8965517241379309\n",
      "Precission:  0.8524590163934426\n",
      "Recall (Sensitivity):  0.9454545454545454\n",
      "Accuracy:  0.8918918918918919\n",
      "Sensitivity:  0.9454545454545454\n",
      "Specificity:  0.8392857142857143\n",
      "Youden's index 0.7847402597402597\n",
      "Youden's formula 0.7847402597402597\n",
      "True Negatives:  47\n",
      "False Positives:  9\n",
      "False Negatives:  3\n",
      "True Positives:  52\n"
     ]
    }
   ],
   "source": [
    "#print the metrics for validation set\n",
    "roc = metrics.roc_auc_score(y_val,y_pred_val)\n",
    "f1 = metrics.f1_score(y_val,y_pred_val)\n",
    "precision = metrics.precision_score(y_val,y_pred_val)\n",
    "recall = metrics.recall_score(y_val,y_pred_val)\n",
    "acc = metrics.accuracy_score(y_val,y_pred_val)\n",
    "\n",
    "cnf_matrix = metrics.confusion_matrix(y_val,y_pred_val)\n",
    "tn, fp, fn, tp = cnf_matrix.ravel()\n",
    "\n",
    "sensitivity = tp / (tp + fn)\n",
    "specificity = tn / (fp + tn)\n",
    "\n",
    "yi = 2*roc-1\n",
    "yi_formula = sensitivity - (1 - specificity)\n",
    "\n",
    "print(\"AUC: \" , roc)\n",
    "print(\"F1: \" , f1)\n",
    "print(\"Precission: \" , precision)\n",
    "print(\"Recall (Sensitivity): \" , recall)\n",
    "print(\"Accuracy: \" , acc )\n",
    "print(\"Sensitivity: \" ,  sensitivity)\n",
    "print(\"Specificity: \" ,  specificity)\n",
    "print(\"Youden's index\", yi)\n",
    "print(\"Youden's formula\", yi_formula)\n",
    "print(\"True Negatives: \",tn)\n",
    "print(\"False Positives: \",fp)\n",
    "print(\"False Negatives: \",fn)\n",
    "print(\"True Positives: \",tp)      "
   ]
  },
  {
   "cell_type": "code",
   "execution_count": 32,
   "metadata": {},
   "outputs": [
    {
     "name": "stdout",
     "output_type": "stream",
     "text": [
      "Confusion matrix, without normalization\n",
      "[[47  9]\n",
      " [ 3 52]]\n"
     ]
    },
    {
     "data": {
      "image/png": "[encoded data removed]",
      "text/plain": [
       "<Figure size 432x288 with 2 Axes>"
      ]
     },
     "metadata": {
      "needs_background": "light"
     },
     "output_type": "display_data"
    }
   ],
   "source": [
    "# Plot non-normalized confusion matrix\n",
    "plt.figure()\n",
    "plot_confusion_matrix(cnf_matrix, classes=['Approved','Denied'],\n",
    "                      title='Confusion matrix, without normalization')"
   ]
  },
  {
   "cell_type": "code",
   "execution_count": 33,
   "metadata": {},
   "outputs": [
    {
     "data": {
      "image/png": "[encoded data removed]",
      "text/plain": [
       "<Figure size 432x288 with 1 Axes>"
      ]
     },
     "metadata": {
      "needs_background": "light"
     },
     "output_type": "display_data"
    }
   ],
   "source": [
    "from sklearn.metrics import roc_curve, auc\n",
    "fpr, tpr, threshold = roc_curve(y_pred_val, y_val)\n",
    "roc_auc = auc(fpr, tpr)\n",
    "\n",
    "plt.figure()\n",
    "plt.plot(fpr, tpr, color='darkorange', lw=1, label='ROC curve (area = %0.2f)' % roc_auc)\n",
    "plt.plot([0, 1], [0, 1], color='navy', lw=1, linestyle='--')\n",
    "plt.xlim([0.0, 1.0])\n",
    "plt.ylim([0.0, 1.05])\n",
    "plt.xlabel('False Positive Rate')\n",
    "plt.ylabel('True Positive Rate')\n",
    "plt.title('Receiver operating characteristic')\n",
    "plt.legend(loc=\"lower right\")\n",
    "plt.show()\n"
   ]
  },
  {
   "cell_type": "code",
   "execution_count": 34,
   "metadata": {},
   "outputs": [],
   "source": [
    "#instantiate rfc with the best parameters\n",
    "rfc_best_model = RandomForestClassifier(max_depth=20.0,max_features=3,min_samples_leaf=0.1,min_samples_split= 0.3,n_estimators=10,random_state=42)\n",
    "\n",
    "#fit the train data\n",
    "rfc_best_model.fit(rescaledX_test, y_test)\n",
    "#predict on test set\n",
    "y_pred_val = rfc_best_model.predict(rescaledX_test)"
   ]
  },
  {
   "cell_type": "code",
   "execution_count": 35,
   "metadata": {},
   "outputs": [
    {
     "name": "stdout",
     "output_type": "stream",
     "text": [
      "AUC:  0.9057142857142857\n",
      "F1:  0.8976377952755906\n",
      "Precission:  0.890625\n",
      "Recall (Sensitivity):  0.9047619047619048\n",
      "Accuracy:  0.9057971014492754\n",
      "Sensitivity:  0.9047619047619048\n",
      "Specificity:  0.9066666666666666\n",
      "Youden's index 0.8114285714285714\n",
      "Youden's formula 0.8114285714285714\n",
      "True Negatives:  68\n",
      "False Positives:  7\n",
      "False Negatives:  6\n",
      "True Positives:  57\n"
     ]
    }
   ],
   "source": [
    "#print the metrics for test set\n",
    "roc = metrics.roc_auc_score(y_test,y_pred_val)\n",
    "f1 = metrics.f1_score(y_test,y_pred_val)\n",
    "precision = metrics.precision_score(y_test,y_pred_val)\n",
    "recall = metrics.recall_score(y_test,y_pred_val)\n",
    "acc = metrics.accuracy_score(y_test,y_pred_val)\n",
    "\n",
    "cnf_matrix = metrics.confusion_matrix(y_test,y_pred_val)\n",
    "tn, fp, fn, tp = cnf_matrix.ravel()\n",
    "\n",
    "sensitivity = tp / (tp + fn)\n",
    "specificity = tn / (fp + tn)\n",
    "\n",
    "yi = 2*roc-1\n",
    "yi_formula = sensitivity - (1 - specificity)\n",
    "\n",
    "print(\"AUC: \" , roc)\n",
    "print(\"F1: \" , f1)\n",
    "print(\"Precission: \" , precision)\n",
    "print(\"Recall (Sensitivity): \" , recall)\n",
    "print(\"Accuracy: \" , acc )\n",
    "print(\"Sensitivity: \" ,  sensitivity)\n",
    "print(\"Specificity: \" ,  specificity)\n",
    "print(\"Youden's index\", yi)\n",
    "print(\"Youden's formula\", yi_formula)\n",
    "print(\"True Negatives: \",tn)\n",
    "print(\"False Positives: \",fp)\n",
    "print(\"False Negatives: \",fn)\n",
    "print(\"True Positives: \",tp)      \n",
    "      "
   ]
  },
  {
   "cell_type": "code",
   "execution_count": 36,
   "metadata": {},
   "outputs": [
    {
     "name": "stdout",
     "output_type": "stream",
     "text": [
      "Confusion matrix, without normalization\n",
      "[[68  7]\n",
      " [ 6 57]]\n"
     ]
    },
    {
     "data": {
      "image/png": "[encoded data removed]",
      "text/plain": [
       "<Figure size 432x288 with 2 Axes>"
      ]
     },
     "metadata": {
      "needs_background": "light"
     },
     "output_type": "display_data"
    }
   ],
   "source": [
    "# Plot non-normalized confusion matrix\n",
    "plt.figure()\n",
    "plot_confusion_matrix(cnf_matrix, classes=['Approved','Denied'],\n",
    "                      title='Confusion matrix, without normalization')"
   ]
  },
  {
   "cell_type": "code",
   "execution_count": null,
   "metadata": {},
   "outputs": [],
   "source": []
  }
 ],
 "metadata": {
  "kernelspec": {
   "display_name": "Python 3",
   "language": "python",
   "name": "python3"
  },
  "language_info": {
   "codemirror_mode": {
    "name": "ipython",
    "version": 3
   },
   "file_extension": ".py",
   "mimetype": "text/x-python",
   "name": "python",
   "nbconvert_exporter": "python",
   "pygments_lexer": "ipython3",
   "version": "3.7.1"
  }
 },
 "nbformat": 4,
 "nbformat_minor": 2
}
